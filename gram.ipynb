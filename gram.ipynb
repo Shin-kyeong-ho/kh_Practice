{
 "cells": [
  {
   "cell_type": "markdown",
   "metadata": {},
   "source": [
    "요소 뽑을라면 대괄호 쓰지마\n"
   ]
  },
  {
   "cell_type": "code",
   "execution_count": null,
   "metadata": {},
   "outputs": [],
   "source": [
    "hello=[]\n",
    "hello = 'Hello, world!'\n",
    "hello"
   ]
  },
  {
   "cell_type": "markdown",
   "metadata": {},
   "source": [
    "#map은 변환?"
   ]
  },
  {
   "cell_type": "code",
   "execution_count": null,
   "metadata": {},
   "outputs": [],
   "source": [
    "a = [1.2, 2.5, 3.7, 4.6]\n",
    "a = list(map(int, a))\n",
    "a\n",
    "[1, 2, 3, 4]"
   ]
  },
  {
   "cell_type": "markdown",
   "metadata": {},
   "source": [
    "join예시"
   ]
  },
  {
   "cell_type": "code",
   "execution_count": 2,
   "metadata": {},
   "outputs": [
    {
     "name": "stdout",
     "output_type": "stream",
     "text": [
      "a-b-c\n"
     ]
    }
   ],
   "source": [
    "lst = ['a', 'b', 'c']\n",
    "print( \"-\".join(lst) ) # a-b-c"
   ]
  },
  {
   "cell_type": "markdown",
   "metadata": {},
   "source": [
    " i[::-1]) 처음부터 끝까지 -1칸 간격으로 ( == 역순으로)"
   ]
  },
  {
   "cell_type": "code",
   "execution_count": null,
   "metadata": {},
   "outputs": [],
   "source": [
    "#리스트 입력 예시\n",
    "arr_0 = 'asd'\n",
    "arr_1 = \"asd\"\n",
    "arr_2 = list('asd')\n",
    "arr_3 = list(input())\n",
    "arr_4 = list(input().split())\n",
    "arr_5 = list(input().split(' '))\n",
    "arr_6 = list(map(list,input().split()))\n",
    "#split(' ')=split()\n",
    "\n",
    "\n",
    "print('arr_0 : ',arr_0)\n",
    "print('arr_1 : ',arr_1)\n",
    "print('arr_2 : ',arr_2)\n",
    "print('arr_3 : ',arr_3)\n",
    "print('arr_4 : ',arr_4)\n",
    "print('arr_5 : ',arr_5)\n",
    "print('arr_6 : ',arr_6)"
   ]
  },
  {
   "cell_type": "code",
   "execution_count": null,
   "metadata": {},
   "outputs": [],
   "source": [
    "#for i in 리스트:\n",
    "#    반복할코드\n",
    "a = [38, 21, 53, 62, 19]\n",
    "for i in a:\n",
    "...     print(i)\n",
    "...\n",
    "38\n",
    "21\n",
    "53\n",
    "62\n",
    "19"
   ]
  }
 ],
 "metadata": {
  "kernelspec": {
   "display_name": "Python 3",
   "language": "python",
   "name": "python3"
  },
  "language_info": {
   "codemirror_mode": {
    "name": "ipython",
    "version": 3
   },
   "file_extension": ".py",
   "mimetype": "text/x-python",
   "name": "python",
   "nbconvert_exporter": "python",
   "pygments_lexer": "ipython3",
   "version": "3.8.5"
  }
 },
 "nbformat": 4,
 "nbformat_minor": 4
}
